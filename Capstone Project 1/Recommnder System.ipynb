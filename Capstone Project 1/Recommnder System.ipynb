{
 "cells": [
  {
   "cell_type": "code",
   "execution_count": 160,
   "metadata": {},
   "outputs": [],
   "source": [
    "import matplotlib.pyplot as plt\n",
    "import pandas as pd\n",
    "import numpy as np\n",
    "import seaborn as sns\n",
    "from surprise import Dataset\n",
    "from surprise import Reader\n",
    "from surprise.model_selection import GridSearchCV\n",
    "from surprise.model_selection import cross_validate\n",
    "from surprise import SVD\n",
    "from collections import defaultdict\n",
    "sns.set()"
   ]
  },
  {
   "cell_type": "code",
   "execution_count": 161,
   "metadata": {},
   "outputs": [
    {
     "name": "stdout",
     "output_type": "stream",
     "text": [
      "credits_clean.csv\n",
      "keywords_clean.csv\n",
      "links_clean.csv\n",
      "metadata_clean.csv\n"
     ]
    }
   ],
   "source": [
    "!ls *.csv"
   ]
  },
  {
   "cell_type": "code",
   "execution_count": 162,
   "metadata": {},
   "outputs": [],
   "source": [
    "ratings = pd.read_csv(r'the-movies-dataset\\ratings_small.csv')\n",
    "meta = pd.read_csv('metadata_clean.csv')\n",
    "meta['id'] = meta.id.astype(int)\n",
    "#merged = pd.merge(ratings, meta, left_on = 'movieId', right_on='id')\n",
    "#merged = merged[['userId', 'movieId', 'rating', 'title']]"
   ]
  },
  {
   "cell_type": "code",
   "execution_count": 163,
   "metadata": {},
   "outputs": [],
   "source": [
    "# loading the data and specifying the train and test set\n",
    "reader = Reader()\n",
    "data = Dataset.load_from_df(ratings[['userId', 'movieId', 'rating']], reader = reader)\n",
    "\n",
    "train = data.build_full_trainset()\n",
    "test = train.build_anti_testset()"
   ]
  },
  {
   "cell_type": "code",
   "execution_count": 164,
   "metadata": {},
   "outputs": [],
   "source": [
    "# using the cross validation to get a sense of optimum factor to minimize the RMSE\n",
    "factor = range(1, 30)\n",
    "scores = []\n",
    "for f in factor:\n",
    "    model = SVD(n_factors=f)\n",
    "    score_cv = cross_validate(model, data, measures=['rmse'], cv=5)\n",
    "    score = score_cv['test_rmse'].mean()\n",
    "    scores.append(score)"
   ]
  },
  {
   "cell_type": "code",
   "execution_count": 165,
   "metadata": {},
   "outputs": [
    {
     "data": {
      "text/plain": [
       "Text(0, 0.5, 'RMSE')"
      ]
     },
     "execution_count": 165,
     "metadata": {},
     "output_type": "execute_result"
    },
    {
     "data": {
      "image/png": "[encoded data removed]",
      "text/plain": [
       "<Figure size 432x288 with 1 Axes>"
      ]
     },
     "metadata": {},
     "output_type": "display_data"
    }
   ],
   "source": [
    "plt.plot(factor, scores, marker='o')\n",
    "plt.xlabel('# of factors')\n",
    "plt.ylabel('RMSE')"
   ]
  },
  {
   "cell_type": "code",
   "execution_count": 170,
   "metadata": {},
   "outputs": [],
   "source": [
    "# using grid search to choose the best number of factors\n",
    "params = {'n_factors':[5, 7, 8, 9, 12, 17]}\n",
    "gs = GridSearchCV(SVD, param_grid=params, measures=['rmse'])"
   ]
  },
  {
   "cell_type": "code",
   "execution_count": 171,
   "metadata": {},
   "outputs": [],
   "source": [
    "gs.fit(data)"
   ]
  },
  {
   "cell_type": "code",
   "execution_count": 172,
   "metadata": {},
   "outputs": [
    {
     "data": {
      "text/plain": [
       "{'rmse': {'n_factors': 7}}"
      ]
     },
     "execution_count": 172,
     "metadata": {},
     "output_type": "execute_result"
    }
   ],
   "source": [
    "# best number of factors based on grid search method\n",
    "gs.best_params"
   ]
  },
  {
   "cell_type": "code",
   "execution_count": 173,
   "metadata": {},
   "outputs": [
    {
     "data": {
      "text/plain": [
       "{'rmse': 0.8903350668870551}"
      ]
     },
     "execution_count": 173,
     "metadata": {},
     "output_type": "execute_result"
    }
   ],
   "source": [
    "gs.best_score"
   ]
  },
  {
   "cell_type": "code",
   "execution_count": 174,
   "metadata": {},
   "outputs": [
    {
     "data": {
      "text/plain": [
       "<surprise.prediction_algorithms.matrix_factorization.SVD at 0x2513366fac8>"
      ]
     },
     "execution_count": 174,
     "metadata": {},
     "output_type": "execute_result"
    }
   ],
   "source": [
    "model = SVD(n_factors = 7)\n",
    "model.fit(train)"
   ]
  },
  {
   "cell_type": "code",
   "execution_count": 175,
   "metadata": {},
   "outputs": [],
   "source": [
    "pred = model.test(test)"
   ]
  },
  {
   "cell_type": "code",
   "execution_count": 176,
   "metadata": {},
   "outputs": [],
   "source": [
    "def top_recomm(pred_dict, predictions, userid, ratings_df, meta_data, n_top = 10 ):\n",
    "    '''using the predicted values on the data, the function \n",
    "       returns the n_top predicted ratings for the specific user,\n",
    "       and also the n_top rated movies for the user\n",
    "    '''\n",
    "    \n",
    "    pred_dict = defaultdict(list)\n",
    "    for user, movieid, rate, est, _ in pred:\n",
    "        pred_dict[user].append((movieid, est))\n",
    "    \n",
    "    for user, items in pred_dict.items():\n",
    "        items.sort(key = lambda x:x[1], reverse=True)\n",
    "        pred_dict[user] = items[:n_top]    \n",
    "    \n",
    "        \n",
    "    movies, rate_est = zip(*pred_dict[userid])\n",
    "    suggest_df = pd.DataFrame({'movieId':movies, 'ratings':rate_est})\n",
    "    suggest_df = pd.merge(meta_data, suggest_df, how='right', left_on = 'id', right_on = 'movieId')[['movieId', 'title','ratings']]\n",
    "    suggest_df.sort_values(by='ratings', inplace=True)\n",
    "    \n",
    "    hist_df = ratings_df[ratings_df['userId']==userid]\n",
    "    hist_df.sort_values(by='rating', ascending=False, inplace=True)\n",
    "    hist_df = hist_df[:n_top]\n",
    "    hist_df = pd.merge(meta_data, hist_df, how='right', left_on = 'id', right_on = 'movieId')[['movieId', 'title','rating']]\n",
    "    hist_df.sort_values(by='rating', ascending=False, inplace=True)\n",
    "    \n",
    "    return suggest_df, hist_df\n",
    "        \n",
    "    \n",
    "    "
   ]
  },
  {
   "cell_type": "code",
   "execution_count": 177,
   "metadata": {},
   "outputs": [
    {
     "name": "stderr",
     "output_type": "stream",
     "text": [
      "C:\\Users\\amir\\Anaconda3\\lib\\site-packages\\ipykernel_launcher.py:17: SettingWithCopyWarning: \n",
      "A value is trying to be set on a copy of a slice from a DataFrame\n",
      "\n",
      "See the caveats in the documentation: http://pandas.pydata.org/pandas-docs/stable/indexing.html#indexing-view-versus-copy\n"
     ]
    }
   ],
   "source": [
    "# predicting the ratings for the users\n",
    "sugg, hist = top_recomm(pred_dict, pred, 10, ratings, meta, n_top=10)"
   ]
  },
  {
   "cell_type": "code",
   "execution_count": 178,
   "metadata": {},
   "outputs": [
    {
     "data": {
      "text/html": [
       "<div>\n",
       "<style scoped>\n",
       "    .dataframe tbody tr th:only-of-type {\n",
       "        vertical-align: middle;\n",
       "    }\n",
       "\n",
       "    .dataframe tbody tr th {\n",
       "        vertical-align: top;\n",
       "    }\n",
       "\n",
       "    .dataframe thead th {\n",
       "        text-align: right;\n",
       "    }\n",
       "</style>\n",
       "<table border=\"1\" class=\"dataframe\">\n",
       "  <thead>\n",
       "    <tr style=\"text-align: right;\">\n",
       "      <th></th>\n",
       "      <th>movieId</th>\n",
       "      <th>title</th>\n",
       "      <th>ratings</th>\n",
       "    </tr>\n",
       "  </thead>\n",
       "  <tbody>\n",
       "    <tr>\n",
       "      <th>9</th>\n",
       "      <td>1172</td>\n",
       "      <td>NaN</td>\n",
       "      <td>4.447425</td>\n",
       "    </tr>\n",
       "    <tr>\n",
       "      <th>2</th>\n",
       "      <td>1945</td>\n",
       "      <td>Nell</td>\n",
       "      <td>4.447919</td>\n",
       "    </tr>\n",
       "    <tr>\n",
       "      <th>3</th>\n",
       "      <td>2064</td>\n",
       "      <td>While You Were Sleeping</td>\n",
       "      <td>4.453991</td>\n",
       "    </tr>\n",
       "    <tr>\n",
       "      <th>8</th>\n",
       "      <td>3462</td>\n",
       "      <td>NaN</td>\n",
       "      <td>4.456609</td>\n",
       "    </tr>\n",
       "    <tr>\n",
       "      <th>7</th>\n",
       "      <td>1221</td>\n",
       "      <td>NaN</td>\n",
       "      <td>4.460085</td>\n",
       "    </tr>\n",
       "    <tr>\n",
       "      <th>6</th>\n",
       "      <td>1217</td>\n",
       "      <td>NaN</td>\n",
       "      <td>4.473518</td>\n",
       "    </tr>\n",
       "    <tr>\n",
       "      <th>0</th>\n",
       "      <td>905</td>\n",
       "      <td>Pandora's Box</td>\n",
       "      <td>4.486238</td>\n",
       "    </tr>\n",
       "    <tr>\n",
       "      <th>4</th>\n",
       "      <td>926</td>\n",
       "      <td>Galaxy Quest</td>\n",
       "      <td>4.491484</td>\n",
       "    </tr>\n",
       "    <tr>\n",
       "      <th>5</th>\n",
       "      <td>969</td>\n",
       "      <td>NaN</td>\n",
       "      <td>4.499432</td>\n",
       "    </tr>\n",
       "    <tr>\n",
       "      <th>1</th>\n",
       "      <td>858</td>\n",
       "      <td>Sleepless in Seattle</td>\n",
       "      <td>4.553156</td>\n",
       "    </tr>\n",
       "  </tbody>\n",
       "</table>\n",
       "</div>"
      ],
      "text/plain": [
       "   movieId                    title   ratings\n",
       "9     1172                      NaN  4.447425\n",
       "2     1945                     Nell  4.447919\n",
       "3     2064  While You Were Sleeping  4.453991\n",
       "8     3462                      NaN  4.456609\n",
       "7     1221                      NaN  4.460085\n",
       "6     1217                      NaN  4.473518\n",
       "0      905            Pandora's Box  4.486238\n",
       "4      926             Galaxy Quest  4.491484\n",
       "5      969                      NaN  4.499432\n",
       "1      858     Sleepless in Seattle  4.553156"
      ]
     },
     "execution_count": 178,
     "metadata": {},
     "output_type": "execute_result"
    }
   ],
   "source": [
    "# top predicted ratings for the user\n",
    "sugg"
   ]
  },
  {
   "cell_type": "code",
   "execution_count": 179,
   "metadata": {},
   "outputs": [
    {
     "data": {
      "text/html": [
       "<div>\n",
       "<style scoped>\n",
       "    .dataframe tbody tr th:only-of-type {\n",
       "        vertical-align: middle;\n",
       "    }\n",
       "\n",
       "    .dataframe tbody tr th {\n",
       "        vertical-align: top;\n",
       "    }\n",
       "\n",
       "    .dataframe thead th {\n",
       "        text-align: right;\n",
       "    }\n",
       "</style>\n",
       "<table border=\"1\" class=\"dataframe\">\n",
       "  <thead>\n",
       "    <tr style=\"text-align: right;\">\n",
       "      <th></th>\n",
       "      <th>movieId</th>\n",
       "      <th>title</th>\n",
       "      <th>rating</th>\n",
       "    </tr>\n",
       "  </thead>\n",
       "  <tbody>\n",
       "    <tr>\n",
       "      <th>1</th>\n",
       "      <td>1719</td>\n",
       "      <td>The Soft Skin</td>\n",
       "      <td>5.0</td>\n",
       "    </tr>\n",
       "    <tr>\n",
       "      <th>2</th>\n",
       "      <td>2926</td>\n",
       "      <td>The Three Musketeers</td>\n",
       "      <td>5.0</td>\n",
       "    </tr>\n",
       "    <tr>\n",
       "      <th>3</th>\n",
       "      <td>1358</td>\n",
       "      <td>A Brief History of Time</td>\n",
       "      <td>5.0</td>\n",
       "    </tr>\n",
       "    <tr>\n",
       "      <th>4</th>\n",
       "      <td>1923</td>\n",
       "      <td>Twin Peaks: Fire Walk with Me</td>\n",
       "      <td>5.0</td>\n",
       "    </tr>\n",
       "    <tr>\n",
       "      <th>5</th>\n",
       "      <td>1611</td>\n",
       "      <td>The Miracle of Bern</td>\n",
       "      <td>5.0</td>\n",
       "    </tr>\n",
       "    <tr>\n",
       "      <th>6</th>\n",
       "      <td>50</td>\n",
       "      <td>NaN</td>\n",
       "      <td>5.0</td>\n",
       "    </tr>\n",
       "    <tr>\n",
       "      <th>7</th>\n",
       "      <td>2826</td>\n",
       "      <td>NaN</td>\n",
       "      <td>5.0</td>\n",
       "    </tr>\n",
       "    <tr>\n",
       "      <th>8</th>\n",
       "      <td>2571</td>\n",
       "      <td>NaN</td>\n",
       "      <td>5.0</td>\n",
       "    </tr>\n",
       "    <tr>\n",
       "      <th>9</th>\n",
       "      <td>2344</td>\n",
       "      <td>NaN</td>\n",
       "      <td>5.0</td>\n",
       "    </tr>\n",
       "    <tr>\n",
       "      <th>0</th>\n",
       "      <td>3019</td>\n",
       "      <td>Dr. Jekyll and Mr. Hyde</td>\n",
       "      <td>4.0</td>\n",
       "    </tr>\n",
       "  </tbody>\n",
       "</table>\n",
       "</div>"
      ],
      "text/plain": [
       "   movieId                          title  rating\n",
       "1     1719                  The Soft Skin     5.0\n",
       "2     2926           The Three Musketeers     5.0\n",
       "3     1358        A Brief History of Time     5.0\n",
       "4     1923  Twin Peaks: Fire Walk with Me     5.0\n",
       "5     1611            The Miracle of Bern     5.0\n",
       "6       50                            NaN     5.0\n",
       "7     2826                            NaN     5.0\n",
       "8     2571                            NaN     5.0\n",
       "9     2344                            NaN     5.0\n",
       "0     3019        Dr. Jekyll and Mr. Hyde     4.0"
      ]
     },
     "execution_count": 179,
     "metadata": {},
     "output_type": "execute_result"
    }
   ],
   "source": [
    "# top ratings given by the user\n",
    "hist"
   ]
  },
  {
   "cell_type": "code",
   "execution_count": null,
   "metadata": {},
   "outputs": [],
   "source": []
  }
 ],
 "metadata": {
  "kernelspec": {
   "display_name": "Python 3",
   "language": "python",
   "name": "python3"
  },
  "language_info": {
   "codemirror_mode": {
    "name": "ipython",
    "version": 3
   },
   "file_extension": ".py",
   "mimetype": "text/x-python",
   "name": "python",
   "nbconvert_exporter": "python",
   "pygments_lexer": "ipython3",
   "version": "3.6.10"
  }
 },
 "nbformat": 4,
 "nbformat_minor": 4
}
