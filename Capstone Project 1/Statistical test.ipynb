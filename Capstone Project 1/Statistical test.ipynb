{
 "cells": [
  {
   "cell_type": "markdown",
   "metadata": {},
   "source": [
    "**In this notebook, I want to check wether the mean difference of ratings between the highest rated movie genre and the lowest rated one is significant or by chance**"
   ]
  },
  {
   "cell_type": "markdown",
   "metadata": {},
   "source": [
    "**The null hypothesis will be that both distribution of animation movies with highest ratings and western movies with lowest ratings have the same underlying mean but not necessarily the same distribution**"
   ]
  },
  {
   "cell_type": "code",
   "execution_count": 23,
   "metadata": {},
   "outputs": [],
   "source": [
    "import numpy as np\n",
    "import pandas as pd\n",
    "import pymc3 as pm\n",
    "import matplotlib.pyplot as plt\n",
    "import seaborn as sns\n",
    "import pickle\n",
    "sns.set_style('white')\n",
    "sns.set_context('talk')"
   ]
  },
  {
   "cell_type": "code",
   "execution_count": 15,
   "metadata": {},
   "outputs": [],
   "source": [
    "# loading the pickle file\n",
    "with open('genres_year_rate.pkl', 'rb') as file:\n",
    "    genres = pickle.load(file)"
   ]
  },
  {
   "cell_type": "code",
   "execution_count": 16,
   "metadata": {},
   "outputs": [],
   "source": [
    "genres, rate, year = zip(*genres)"
   ]
  },
  {
   "cell_type": "code",
   "execution_count": 17,
   "metadata": {},
   "outputs": [],
   "source": [
    "df = pd.DataFrame({\"genres\":genres, \"year\":year, \"rate\":rate})"
   ]
  },
  {
   "cell_type": "code",
   "execution_count": 18,
   "metadata": {},
   "outputs": [
    {
     "data": {
      "text/html": [
       "<div>\n",
       "<style scoped>\n",
       "    .dataframe tbody tr th:only-of-type {\n",
       "        vertical-align: middle;\n",
       "    }\n",
       "\n",
       "    .dataframe tbody tr th {\n",
       "        vertical-align: top;\n",
       "    }\n",
       "\n",
       "    .dataframe thead th {\n",
       "        text-align: right;\n",
       "    }\n",
       "</style>\n",
       "<table border=\"1\" class=\"dataframe\">\n",
       "  <thead>\n",
       "    <tr style=\"text-align: right;\">\n",
       "      <th></th>\n",
       "      <th>genres</th>\n",
       "      <th>year</th>\n",
       "      <th>rate</th>\n",
       "    </tr>\n",
       "  </thead>\n",
       "  <tbody>\n",
       "    <tr>\n",
       "      <th>0</th>\n",
       "      <td>Documentary</td>\n",
       "      <td>1878</td>\n",
       "      <td>6.2</td>\n",
       "    </tr>\n",
       "    <tr>\n",
       "      <th>1</th>\n",
       "      <td>Documentary</td>\n",
       "      <td>1883</td>\n",
       "      <td>5.4</td>\n",
       "    </tr>\n",
       "    <tr>\n",
       "      <th>2</th>\n",
       "      <td>Comedy</td>\n",
       "      <td>1890</td>\n",
       "      <td>4.3</td>\n",
       "    </tr>\n",
       "    <tr>\n",
       "      <th>3</th>\n",
       "      <td>Documentary</td>\n",
       "      <td>1891</td>\n",
       "      <td>3.3</td>\n",
       "    </tr>\n",
       "    <tr>\n",
       "      <th>4</th>\n",
       "      <td>Comedy</td>\n",
       "      <td>1892</td>\n",
       "      <td>6.1</td>\n",
       "    </tr>\n",
       "  </tbody>\n",
       "</table>\n",
       "</div>"
      ],
      "text/plain": [
       "        genres  year  rate\n",
       "0  Documentary  1878   6.2\n",
       "1  Documentary  1883   5.4\n",
       "2       Comedy  1890   4.3\n",
       "3  Documentary  1891   3.3\n",
       "4       Comedy  1892   6.1"
      ]
     },
     "execution_count": 18,
     "metadata": {},
     "output_type": "execute_result"
    }
   ],
   "source": [
    "df.head()"
   ]
  },
  {
   "cell_type": "code",
   "execution_count": 117,
   "metadata": {},
   "outputs": [
    {
     "data": {
      "text/html": [
       "<div>\n",
       "<style scoped>\n",
       "    .dataframe tbody tr th:only-of-type {\n",
       "        vertical-align: middle;\n",
       "    }\n",
       "\n",
       "    .dataframe tbody tr th {\n",
       "        vertical-align: top;\n",
       "    }\n",
       "\n",
       "    .dataframe thead th {\n",
       "        text-align: right;\n",
       "    }\n",
       "</style>\n",
       "<table border=\"1\" class=\"dataframe\">\n",
       "  <thead>\n",
       "    <tr style=\"text-align: right;\">\n",
       "      <th></th>\n",
       "      <th>year</th>\n",
       "      <th>rate</th>\n",
       "    </tr>\n",
       "    <tr>\n",
       "      <th>genres</th>\n",
       "      <th></th>\n",
       "      <th></th>\n",
       "    </tr>\n",
       "  </thead>\n",
       "  <tbody>\n",
       "    <tr>\n",
       "      <th>Animation</th>\n",
       "      <td>1996.547219</td>\n",
       "      <td>6.291553</td>\n",
       "    </tr>\n",
       "    <tr>\n",
       "      <th>History</th>\n",
       "      <td>1989.375727</td>\n",
       "      <td>6.168241</td>\n",
       "    </tr>\n",
       "    <tr>\n",
       "      <th>War</th>\n",
       "      <td>1979.636782</td>\n",
       "      <td>6.046667</td>\n",
       "    </tr>\n",
       "    <tr>\n",
       "      <th>Drama</th>\n",
       "      <td>1990.673925</td>\n",
       "      <td>5.920809</td>\n",
       "    </tr>\n",
       "    <tr>\n",
       "      <th>Crime</th>\n",
       "      <td>1988.337632</td>\n",
       "      <td>5.883494</td>\n",
       "    </tr>\n",
       "    <tr>\n",
       "      <th>Music</th>\n",
       "      <td>1985.386650</td>\n",
       "      <td>5.878967</td>\n",
       "    </tr>\n",
       "    <tr>\n",
       "      <th>Documentary</th>\n",
       "      <td>2002.899922</td>\n",
       "      <td>5.866051</td>\n",
       "    </tr>\n",
       "    <tr>\n",
       "      <th>Mystery</th>\n",
       "      <td>1989.325696</td>\n",
       "      <td>5.823200</td>\n",
       "    </tr>\n",
       "    <tr>\n",
       "      <th>Romance</th>\n",
       "      <td>1987.867757</td>\n",
       "      <td>5.811528</td>\n",
       "    </tr>\n",
       "    <tr>\n",
       "      <th>Fantasy</th>\n",
       "      <td>1991.416557</td>\n",
       "      <td>5.797065</td>\n",
       "    </tr>\n",
       "    <tr>\n",
       "      <th>Family</th>\n",
       "      <td>1995.412175</td>\n",
       "      <td>5.771360</td>\n",
       "    </tr>\n",
       "    <tr>\n",
       "      <th>Foreign</th>\n",
       "      <td>1997.569357</td>\n",
       "      <td>5.761475</td>\n",
       "    </tr>\n",
       "    <tr>\n",
       "      <th>Comedy</th>\n",
       "      <td>1992.030971</td>\n",
       "      <td>5.731488</td>\n",
       "    </tr>\n",
       "    <tr>\n",
       "      <th>Adventure</th>\n",
       "      <td>1989.861312</td>\n",
       "      <td>5.708841</td>\n",
       "    </tr>\n",
       "    <tr>\n",
       "      <th>Thriller</th>\n",
       "      <td>1996.457618</td>\n",
       "      <td>5.624558</td>\n",
       "    </tr>\n",
       "    <tr>\n",
       "      <th>Action</th>\n",
       "      <td>1993.374007</td>\n",
       "      <td>5.595037</td>\n",
       "    </tr>\n",
       "    <tr>\n",
       "      <th>Science Fiction</th>\n",
       "      <td>1994.371305</td>\n",
       "      <td>5.353803</td>\n",
       "    </tr>\n",
       "    <tr>\n",
       "      <th>TV Movie</th>\n",
       "      <td>2001.712000</td>\n",
       "      <td>5.255467</td>\n",
       "    </tr>\n",
       "    <tr>\n",
       "      <th>Horror</th>\n",
       "      <td>1994.418745</td>\n",
       "      <td>5.234394</td>\n",
       "    </tr>\n",
       "    <tr>\n",
       "      <th>Western</th>\n",
       "      <td>1968.243714</td>\n",
       "      <td>5.187814</td>\n",
       "    </tr>\n",
       "  </tbody>\n",
       "</table>\n",
       "</div>"
      ],
      "text/plain": [
       "                        year      rate\n",
       "genres                                \n",
       "Animation        1996.547219  6.291553\n",
       "History          1989.375727  6.168241\n",
       "War              1979.636782  6.046667\n",
       "Drama            1990.673925  5.920809\n",
       "Crime            1988.337632  5.883494\n",
       "Music            1985.386650  5.878967\n",
       "Documentary      2002.899922  5.866051\n",
       "Mystery          1989.325696  5.823200\n",
       "Romance          1987.867757  5.811528\n",
       "Fantasy          1991.416557  5.797065\n",
       "Family           1995.412175  5.771360\n",
       "Foreign          1997.569357  5.761475\n",
       "Comedy           1992.030971  5.731488\n",
       "Adventure        1989.861312  5.708841\n",
       "Thriller         1996.457618  5.624558\n",
       "Action           1993.374007  5.595037\n",
       "Science Fiction  1994.371305  5.353803\n",
       "TV Movie         2001.712000  5.255467\n",
       "Horror           1994.418745  5.234394\n",
       "Western          1968.243714  5.187814"
      ]
     },
     "execution_count": 117,
     "metadata": {},
     "output_type": "execute_result"
    }
   ],
   "source": [
    "grouped = df.groupby('genres').mean().sort_values(by = 'rate', ascending=False)\n",
    "grouped"
   ]
  },
  {
   "cell_type": "code",
   "execution_count": 112,
   "metadata": {},
   "outputs": [
    {
     "data": {
      "image/png": "[encoded data removed]",
      "text/plain": [
       "<Figure size 720x360 with 1 Axes>"
      ]
     },
     "metadata": {},
     "output_type": "display_data"
    }
   ],
   "source": [
    "sns.catplot(x = 'genres', y = \"rate\", data=df, kind='bar', order = grouped.index,height=5, aspect = 2, palette='RdBu_r')\n",
    "plt.xticks(rotation=90)\n",
    "#plt.title(\"Mean ratings for different movie genres\")\n",
    "#plt.tight_layout()\n",
    "plt.savefig('rating_bar.jpg', bbox_inches='tight')"
   ]
  },
  {
   "cell_type": "code",
   "execution_count": 91,
   "metadata": {},
   "outputs": [],
   "source": [
    "# rating distribution of western and animation movies\n",
    "western = df[df.genres == 'Western'].rate.values\n",
    "animation = df[df.genres == 'Animation'].rate.values"
   ]
  },
  {
   "cell_type": "code",
   "execution_count": 114,
   "metadata": {},
   "outputs": [
    {
     "data": {
      "image/png": "[encoded data removed]",
      "text/plain": [
       "<Figure size 864x360 with 2 Axes>"
      ]
     },
     "metadata": {},
     "output_type": "display_data"
    }
   ],
   "source": [
    "# plotting the distribution of ratings in both genres\n",
    "fig , axes = plt.subplots(1, 2, figsize=(12, 5), sharey=True)\n",
    "\n",
    "sns.distplot(western, kde=False, ax=axes[0], bins=20, hist_kws=dict(edgecolor='k'))\n",
    "axes[0].set( xlabel=\"Ratings\", ylabel='Count')\n",
    "sns.despine(top=True, right=True, left=True, ax=axes[0])\n",
    "\n",
    "sns.distplot(animation, kde=False, ax=axes[1], bins=20, hist_kws=dict(edgecolor='k'))\n",
    "axes[1].set( xlabel=\"Ratings\")\n",
    "sns.despine(top=True, right=True, left=True, ax=axes[1])\n",
    "plt.savefig(\"rating_dist.jpg\", bbox_inches='tight')"
   ]
  },
  {
   "cell_type": "code",
   "execution_count": 93,
   "metadata": {},
   "outputs": [],
   "source": [
    "# distribution of means for 10000 different samples for western movies\n",
    "western_means = [np.mean(np.random.choice(western, size=len(western))) for _ in range(10000)]\n",
    "w_mean = np.mean(western_means)"
   ]
  },
  {
   "cell_type": "code",
   "execution_count": 94,
   "metadata": {},
   "outputs": [],
   "source": [
    "# distribution of means for 10000 different samples for animation movies\n",
    "animation_means = [np.mean(np.random.choice(animation, size = len(animation))) for _ in range(10000)]\n",
    "a_mean = np.mean(animation_means)"
   ]
  },
  {
   "cell_type": "code",
   "execution_count": 115,
   "metadata": {},
   "outputs": [
    {
     "data": {
      "image/png": "[encoded data removed]",
      "text/plain": [
       "<Figure size 864x360 with 2 Axes>"
      ]
     },
     "metadata": {},
     "output_type": "display_data"
    }
   ],
   "source": [
    "fig1, axes1 = plt.subplots(1, 2, figsize=(12, 5), sharey=True)\n",
    "\n",
    "# western means distribution\n",
    "sns.distplot(western_means, bins=30, ax=axes1[0], hist_kws=dict(edgecolor='k'), kde=False)\n",
    "_=axes1[0].axvline(w_mean, color='red')\n",
    "axes1[0].set( xlabel = \"Mean\", ylabel='Count')\n",
    "sns.despine(top=True, right=True, left=True, ax=axes1[0])\n",
    "\n",
    "# animation means distribution\n",
    "sns.distplot(animation_means, bins=30, kde=False, hist_kws=dict(edgecolor='k'), ax=axes1[1])\n",
    "axes1[1].axvline(a_mean, color='red')\n",
    "axes1[1].set( xlabel = \"Mean\")\n",
    "sns.despine(top=True, left=True, right=True, ax=axes1[1])\n",
    "plt.savefig(\"mean_dist.jpg\", bbox_inches='tight')"
   ]
  },
  {
   "cell_type": "markdown",
   "metadata": {},
   "source": [
    "**If the two genres had the same underlying mean, what would be the chance that we get the means difference, the same as what in the above bar plot? so I shift both distributions to the same mean and find the p-value of  getting the mean difference as high as what we have right now**"
   ]
  },
  {
   "cell_type": "code",
   "execution_count": 96,
   "metadata": {},
   "outputs": [],
   "source": [
    "# concatenating the two samples and taking the overall mean for western and animation\n",
    "means_concat = np.mean(np.concatenate((western, animation)))"
   ]
  },
  {
   "cell_type": "code",
   "execution_count": 97,
   "metadata": {},
   "outputs": [],
   "source": [
    "# shifting both distribution, so they have the same mean\n",
    "western_shifted = western - w_mean + means_concat\n",
    "animation_shifted = animation - a_mean + means_concat"
   ]
  },
  {
   "cell_type": "code",
   "execution_count": 98,
   "metadata": {},
   "outputs": [],
   "source": [
    "# drawing 10000 samples of each distribution and calculating the mean for each one\n",
    "w_shifted_samples = np.array([np.mean(np.random.choice(western_shifted, size=len(western_shifted))) for _ in range(10000)])\n",
    "a_shifted_samples = np.array([np.mean(np.random.choice(animation_shifted, size=len(animation_shifted))) for _ in range(10000)])"
   ]
  },
  {
   "cell_type": "code",
   "execution_count": 116,
   "metadata": {},
   "outputs": [
    {
     "data": {
      "image/png": "[encoded data removed]",
      "text/plain": [
       "<Figure size 432x288 with 1 Axes>"
      ]
     },
     "metadata": {},
     "output_type": "display_data"
    }
   ],
   "source": [
    "# drawing the distribution of mean differences and calculate the p-value for the observed difference\n",
    "sns.distplot(w_shifted_samples - a_shifted_samples, kde=False, hist_kws=dict(edgecolor='k'), bins=20)\n",
    "sns.despine(top=True, right=True, left=True)\n",
    "plt.axvline(a_mean-w_mean, linestyle='--', color='red')\n",
    "#plt.title(\"Mean distribution of shifted samples\")\n",
    "plt.xlabel(\"Mean\")\n",
    "plt.ylabel(\"Count\")\n",
    "plt.savefig(\"p-val\", bbox_inches=\"tight\")"
   ]
  },
  {
   "cell_type": "code",
   "execution_count": 100,
   "metadata": {},
   "outputs": [
    {
     "name": "stdout",
     "output_type": "stream",
     "text": [
      "The p-value: 0.0\n"
     ]
    }
   ],
   "source": [
    "p_val = np.sum(w_shifted_samples - a_shifted_samples > a_mean - w_mean)/len(w_shifted_samples)\n",
    "print(\"The p-value: {}\".format(p_val))"
   ]
  },
  {
   "cell_type": "markdown",
   "metadata": {},
   "source": [
    "**Looking at the p-value, which is almost zero, we can reject the null hypothesis that both distributions have the same rating means and we can say that animation movies have higher ratings**"
   ]
  },
  {
   "cell_type": "code",
   "execution_count": 108,
   "metadata": {},
   "outputs": [],
   "source": [
    "plt.savefig?"
   ]
  },
  {
   "cell_type": "code",
   "execution_count": null,
   "metadata": {},
   "outputs": [],
   "source": []
  }
 ],
 "metadata": {
  "kernelspec": {
   "display_name": "Python [conda env:py3-pymc3]",
   "language": "python",
   "name": "conda-env-py3-pymc3-py"
  },
  "language_info": {
   "codemirror_mode": {
    "name": "ipython",
    "version": 3
   },
   "file_extension": ".py",
   "mimetype": "text/x-python",
   "name": "python",
   "nbconvert_exporter": "python",
   "pygments_lexer": "ipython3",
   "version": "3.6.10"
  }
 },
 "nbformat": 4,
 "nbformat_minor": 4
}
